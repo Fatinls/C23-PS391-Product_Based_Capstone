{
 "cells": [
  {
   "cell_type": "code",
   "execution_count": 2,
   "metadata": {},
   "outputs": [],
   "source": [
    "import numpy as np\n",
    "import tensorflow as tf\n",
    "import pandas as pd\n",
    "from sklearn.model_selection import train_test_split\n",
    "from sklearn.datasets import make_blobs\n",
    "import matplotlib.pyplot as plt"
   ]
  },
  {
   "cell_type": "code",
   "execution_count": 3,
   "metadata": {},
   "outputs": [],
   "source": [
    "data = pd.read_csv(\"Weather Dataset\\Wheater_Classification\\Wheater-Encode-22.csv\")\n",
    "\n",
    "x = data.iloc[:,1:5 ].values\n",
    "y = data.iloc[:,4:].values"
   ]
  },
  {
   "cell_type": "code",
   "execution_count": 4,
   "metadata": {},
   "outputs": [],
   "source": [
    "x = np.concatenate([\n",
    "    x + np.random.uniform(-1, 1, x.shape),\n",
    "    x + np.random.uniform(-1, 1, x.shape),\n",
    "    x + np.random.uniform(-1, 1, x.shape)\n",
    "], axis=0)"
   ]
  },
  {
   "cell_type": "code",
   "execution_count": 5,
   "metadata": {},
   "outputs": [],
   "source": [
    "y = np.concatenate([\n",
    "    y,\n",
    "    y,\n",
    "    y\n",
    "], axis=0)"
   ]
  },
  {
   "cell_type": "code",
   "execution_count": 6,
   "metadata": {},
   "outputs": [],
   "source": [
    "x_train, x_test, y_train, y_test = train_test_split(x, y, test_size=0.25, random_state=42)"
   ]
  },
  {
   "cell_type": "code",
   "execution_count": 7,
   "metadata": {},
   "outputs": [
    {
     "name": "stdout",
     "output_type": "stream",
     "text": [
      "Data shape: (10714, 4)\n",
      "Labels shape: (10714, 18)\n"
     ]
    }
   ],
   "source": [
    "print(\"Data shape:\", x_train.shape)\n",
    "print(\"Labels shape:\", y_train.shape)"
   ]
  },
  {
   "cell_type": "code",
   "execution_count": 8,
   "metadata": {},
   "outputs": [],
   "source": [
    "# # Membuat data latihan dan label latihan menggunakan make_blobs\n",
    "# X_train, y_train = make_blobs(n_samples=100, centers=17, random_state=42)\n",
    "\n",
    "# # Menampilkan data latihan dalam scatter plot\n",
    "# plt.scatter(X_train[:, 0], X_train[:, 1], c=y_train)\n",
    "# plt.xlabel(\"X1\")\n",
    "# plt.ylabel(\"X2\")\n",
    "# plt.title(\"Data Latihan\")\n",
    "# plt.show()"
   ]
  },
  {
   "cell_type": "code",
   "execution_count": 9,
   "metadata": {},
   "outputs": [],
   "source": [
    "# # show classes in data set\n",
    "# print(f\"unique classes {np.unique(y_train)}\")\n",
    "# # show how classes are represented\n",
    "# print(f\"class representation {y_train[:10]}\")\n",
    "# # show shapes of our dataset\n",
    "# print(f\"shape of X_train: {x_train.shape}, shape of y_train: {y_train.shape}\")"
   ]
  },
  {
   "cell_type": "code",
   "execution_count": 10,
   "metadata": {},
   "outputs": [],
   "source": [
    "# # Scale the features\n",
    "# scaler = StandardScaler()\n",
    "# x_train = scaler.fit_transform(x_train)\n",
    "# x_test = scaler.transform(x_test)"
   ]
  },
  {
   "cell_type": "code",
   "execution_count": 11,
   "metadata": {},
   "outputs": [],
   "source": [
    "# # One-hot encoding untuk target label\n",
    "# labels = tf.keras.utils.to_categorical(labels)"
   ]
  },
  {
   "cell_type": "code",
   "execution_count": 12,
   "metadata": {},
   "outputs": [],
   "source": [
    "# # knn_model = KNeighborsClassifier(n_neighbors=1)\n",
    "# # knn_model.fit(x_train, y_train)\n",
    "# # knn_predictions = knn_model.predict(x_test)\n",
    "# knn_predictions.shape"
   ]
  },
  {
   "cell_type": "code",
   "execution_count": 13,
   "metadata": {},
   "outputs": [],
   "source": [
    "# Build the Model\n",
    "# encoder_inputs = \n",
    "import logging\n",
    "logging.getLogger(\"tensorflow\").setLevel(logging.ERROR)\n",
    "\n",
    "model = tf.keras.models.Sequential([\n",
    "        # tf.keras.layers.Embedding(input_dim=4, output_dim=4, input_length=4),\n",
    "        # tf.keras.layers.LSTM(units=64),\n",
    "\n",
    "\n",
    "        tf.keras.layers.Dense(512, activation=\"relu\", input_shape=(x_train.shape[1],)),\n",
    "        # # Menambahkan layer tersembunyi\n",
    "        # tf.keras.layers.Dense(256, activation='relu'),\n",
    "        # # Menambahkan layer tersembunyi\n",
    "        tf.keras.layers.Dense(512, activation='relu'),\n",
    "\n",
    "        # Menambahkan layer output dengan jumlah kelas yang sesuai\n",
    "        tf.keras.layers.Dense(18, activation='softmax'),\n",
    "        # tf.keras.layers.Dropout(0.2))  \n",
    "    ]\n",
    "    )\n",
    "#  # Print the model summary \n",
    "model.compile(optimizer=tf.keras.optimizers.Adam(0.01), \n",
    "              loss='categorical_crossentropy', \n",
    "              metrics=['accuracy']\n",
    "              )\n"
   ]
  },
  {
   "cell_type": "code",
   "execution_count": 14,
   "metadata": {},
   "outputs": [],
   "source": [
    "# #model\n",
    "# embedding_vector_features=45\n",
    "# model = tf.keras.models.Sequential([\n",
    "\n",
    "#     tf.keras.layers.Embedding(embedding_vector_features,input_length=sent_length),\n",
    "#     tf.keras.layers.LSTM(128,input_shape=(embedded_docs.shape),activation='relu',return_sequences=True),\n",
    "#     tf.keras.layers.Dropout(0.2),\n",
    "#     tf.keras.layers.LSTM(128,activation='relu'),\n",
    "#     tf.keras.layers.Dropout(0.2),\n",
    "#     # for units in [128,128,64,32]:\n",
    "#     # tf.keras.layers.Dense(units,activation='relu'))\n",
    "#     # tf.keras.layers.Dropout(0.2))\n",
    "#     tf.keras.layers.Dense(32,activation='relu'),\n",
    "#     tf.keras.layers.Dropout(0.2),\n",
    "#     tf.keras.layers.Dense(18,activation='softmax')\n",
    "# ])\n",
    "\n",
    "# # Print the model summary \n",
    "# model.compile(optimizer=tf.keras.optimizers.Adam(lr=0.003), \n",
    "#               loss='categorical_crossentropy', \n",
    "#               metrics=['accuracy']\n",
    "#               )"
   ]
  },
  {
   "cell_type": "code",
   "execution_count": 15,
   "metadata": {},
   "outputs": [
    {
     "name": "stdout",
     "output_type": "stream",
     "text": [
      "Epoch 1/20\n",
      "335/335 [==============================] - 3s 7ms/step - loss: 4.8461 - accuracy: 0.2604 - val_loss: 1.8875 - val_accuracy: 0.2923\n",
      "Epoch 2/20\n",
      "335/335 [==============================] - 2s 6ms/step - loss: 1.7819 - accuracy: 0.3125 - val_loss: 1.6452 - val_accuracy: 0.3301\n",
      "Epoch 3/20\n",
      "335/335 [==============================] - 2s 6ms/step - loss: 1.6597 - accuracy: 0.3485 - val_loss: 1.5608 - val_accuracy: 0.3578\n",
      "Epoch 4/20\n",
      "335/335 [==============================] - 2s 6ms/step - loss: 1.6155 - accuracy: 0.3509 - val_loss: 1.7623 - val_accuracy: 0.2954\n",
      "Epoch 5/20\n",
      "335/335 [==============================] - 2s 5ms/step - loss: 1.5996 - accuracy: 0.3588 - val_loss: 1.5113 - val_accuracy: 0.3847\n",
      "Epoch 6/20\n",
      "335/335 [==============================] - 2s 5ms/step - loss: 1.5776 - accuracy: 0.3632 - val_loss: 1.5858 - val_accuracy: 0.3729\n",
      "Epoch 7/20\n",
      "335/335 [==============================] - 2s 6ms/step - loss: 1.5729 - accuracy: 0.3606 - val_loss: 1.5138 - val_accuracy: 0.3810\n",
      "Epoch 8/20\n",
      "335/335 [==============================] - 2s 7ms/step - loss: 1.5580 - accuracy: 0.3691 - val_loss: 1.5336 - val_accuracy: 0.3435\n",
      "Epoch 9/20\n",
      "335/335 [==============================] - 2s 6ms/step - loss: 1.5530 - accuracy: 0.3810 - val_loss: 1.5027 - val_accuracy: 0.3830\n",
      "Epoch 10/20\n",
      "335/335 [==============================] - 2s 5ms/step - loss: 1.5563 - accuracy: 0.3666 - val_loss: 1.5909 - val_accuracy: 0.3505\n",
      "Epoch 11/20\n",
      "335/335 [==============================] - 2s 5ms/step - loss: 1.5353 - accuracy: 0.3813 - val_loss: 1.4700 - val_accuracy: 0.3928\n",
      "Epoch 12/20\n",
      "335/335 [==============================] - 2s 5ms/step - loss: 1.5315 - accuracy: 0.3816 - val_loss: 1.5036 - val_accuracy: 0.3863\n",
      "Epoch 13/20\n",
      "335/335 [==============================] - 2s 5ms/step - loss: 1.5085 - accuracy: 0.3845 - val_loss: 1.4710 - val_accuracy: 0.3889\n",
      "Epoch 14/20\n",
      "335/335 [==============================] - 2s 5ms/step - loss: 1.5485 - accuracy: 0.3764 - val_loss: 1.4589 - val_accuracy: 0.3956\n",
      "Epoch 15/20\n",
      "335/335 [==============================] - 2s 5ms/step - loss: 1.5279 - accuracy: 0.3817 - val_loss: 1.5298 - val_accuracy: 0.3802\n",
      "Epoch 16/20\n",
      "335/335 [==============================] - 2s 5ms/step - loss: 1.5343 - accuracy: 0.3789 - val_loss: 1.6027 - val_accuracy: 0.3382\n",
      "Epoch 17/20\n",
      "335/335 [==============================] - 2s 5ms/step - loss: 1.5366 - accuracy: 0.3738 - val_loss: 1.4661 - val_accuracy: 0.3889\n",
      "Epoch 18/20\n",
      "335/335 [==============================] - 2s 5ms/step - loss: 1.5326 - accuracy: 0.3745 - val_loss: 1.4569 - val_accuracy: 0.3928\n",
      "Epoch 19/20\n",
      "335/335 [==============================] - 2s 5ms/step - loss: 1.5193 - accuracy: 0.3832 - val_loss: 1.4789 - val_accuracy: 0.3749\n",
      "Epoch 20/20\n",
      "335/335 [==============================] - 2s 6ms/step - loss: 1.5048 - accuracy: 0.3908 - val_loss: 1.4707 - val_accuracy: 0.3900\n"
     ]
    },
    {
     "data": {
      "text/plain": [
       "<keras.callbacks.History at 0x15c6c0340d0>"
      ]
     },
     "execution_count": 15,
     "metadata": {},
     "output_type": "execute_result"
    }
   ],
   "source": [
    "# Melakukan pelatihan model\n",
    "model.fit(x_train, y_train, epochs=20, batch_size=32, validation_data=(x_test, y_test))"
   ]
  },
  {
   "attachments": {},
   "cell_type": "markdown",
   "metadata": {},
   "source": []
  },
  {
   "cell_type": "code",
   "execution_count": 18,
   "metadata": {},
   "outputs": [
    {
     "name": "stdout",
     "output_type": "stream",
     "text": [
      "Model: \"sequential\"\n",
      "_________________________________________________________________\n",
      " Layer (type)                Output Shape              Param #   \n",
      "=================================================================\n",
      " dense (Dense)               (None, 512)               2560      \n",
      "                                                                 \n",
      " dense_1 (Dense)             (None, 512)               262656    \n",
      "                                                                 \n",
      " dense_2 (Dense)             (None, 18)                9234      \n",
      "                                                                 \n",
      "=================================================================\n",
      "Total params: 274,450\n",
      "Trainable params: 274,450\n",
      "Non-trainable params: 0\n",
      "_________________________________________________________________\n"
     ]
    }
   ],
   "source": [
    "model.summary()"
   ]
  },
  {
   "cell_type": "code",
   "execution_count": 20,
   "metadata": {},
   "outputs": [
    {
     "name": "stdout",
     "output_type": "stream",
     "text": [
      "1/1 [==============================] - 0s 24ms/step\n",
      "[16 16 16]\n"
     ]
    }
   ],
   "source": [
    "# Melakukan prediksi dengan model\n",
    "data = input_data = np.array([[24.4, 84, 5, 90], [22.0, 80.1, 4.8, 270.0], [25.3, 70.5, 5.5, 210.0]])\n",
    "predictions = model.predict(data)\n",
    "\n",
    "# Melihat hasil prediksi\n",
    "predicted_labels = np.argmax(predictions, axis=1)\n",
    "print(predicted_labels)"
   ]
  }
 ],
 "metadata": {
  "kernelspec": {
   "display_name": "py37",
   "language": "python",
   "name": "python3"
  },
  "language_info": {
   "codemirror_mode": {
    "name": "ipython",
    "version": 3
   },
   "file_extension": ".py",
   "mimetype": "text/x-python",
   "name": "python",
   "nbconvert_exporter": "python",
   "pygments_lexer": "ipython3",
   "version": "3.9.7"
  },
  "orig_nbformat": 4
 },
 "nbformat": 4,
 "nbformat_minor": 2
}
