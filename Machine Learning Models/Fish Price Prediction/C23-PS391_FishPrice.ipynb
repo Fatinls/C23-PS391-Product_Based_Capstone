{
 "cells": [
  {
   "cell_type": "code",
   "execution_count": 50,
   "metadata": {
    "colab": {
     "base_uri": "https://localhost:8080/"
    },
    "deletable": false,
    "editable": false,
    "id": "56XEQOGknrAk",
    "outputId": "6b8ab5ea-ed49-40d2-a27c-d2ba08710ba0"
   },
   "outputs": [],
   "source": [
    "import csv\n",
    "import pickle\n",
    "import numpy as np\n",
    "import tensorflow as tf\n",
    "import matplotlib.pyplot as plt\n",
    "import math\n",
    "from dataclasses import dataclass\n",
    "from absl import logging\n",
    "logging.set_verbosity(logging.ERROR)"
   ]
  },
  {
   "cell_type": "code",
   "execution_count": 51,
   "metadata": {
    "deletable": false,
    "editable": false,
    "id": "sLl52leVp5wU"
   },
   "outputs": [],
   "source": [
    "def plot_series(time, series, format=\"-\", start=0, end=None):\n",
    "    plt.plot(time[start:end], series[start:end], format)\n",
    "    plt.xlabel(\"Time\")\n",
    "    plt.ylabel(\"Value\")\n",
    "    plt.grid(True)"
   ]
  },
  {
   "cell_type": "code",
   "execution_count": 52,
   "metadata": {
    "colab": {
     "base_uri": "https://localhost:8080/",
     "height": 388
    },
    "deletable": false,
    "id": "NcG9r1eClbTh",
    "outputId": "7acf6ba9-e852-4f06-e06e-b0ff1b9e2ddd"
   },
   "outputs": [],
   "source": [
    "def parse_data_from_file(filename):\n",
    "    \n",
    "    times = []\n",
    "    temperatures = []\n",
    "\n",
    "    with open(filename) as csvfile:\n",
    "        \n",
    "        ### START CODE HERE\n",
    "        \n",
    "        reader = csv.reader(csvfile, delimiter=',')\n",
    "        next(reader)\n",
    "        temp=0\n",
    "        for row in reader:\n",
    "            temperatures.append(float(row[1]))\n",
    "            times.append(temp)\n",
    "            temp+=1\n",
    "        times=np.array(times)\n",
    "        temperatures=np.array(temperatures)\n",
    "        ### END CODE HERE\n",
    "            \n",
    "    return times, temperatures"
   ]
  },
  {
   "cell_type": "code",
   "execution_count": 53,
   "metadata": {
    "deletable": false,
    "editable": false
   },
   "outputs": [],
   "source": [
    "# Test your function and save all \"global\" variables within the G class (G stands for global)\n",
    "@dataclass\n",
    "class G:\n",
    "    TEMPERATURES_CSV = 'Cakalang-14c.csv'\n",
    "    times, temperatures = parse_data_from_file(TEMPERATURES_CSV)\n",
    "    TIME = np.array(times)\n",
    "    SERIES = np.array(temperatures)\n",
    "    SPLIT_TIME = math.floor(0.75*1828)\n",
    "    WINDOW_SIZE = 180\n",
    "    BATCH_SIZE = 32\n",
    "    SHUFFLE_BUFFER_SIZE = 10\n",
    "\n",
    "\n",
    "# plt.figure(figsize=(10, 6))\n",
    "# plot_series(G.TIME, G.SERIES)\n",
    "# plt.show()"
   ]
  },
  {
   "cell_type": "code",
   "execution_count": 54,
   "metadata": {},
   "outputs": [
    {
     "name": "stdout",
     "output_type": "stream",
     "text": [
      "[29500. 29500. 29500. ... 41500. 41500. 41500.]\n"
     ]
    }
   ],
   "source": [
    "print(G.SERIES)"
   ]
  },
  {
   "cell_type": "code",
   "execution_count": 55,
   "metadata": {
    "deletable": false,
    "editable": false
   },
   "outputs": [],
   "source": [
    "def train_val_split(time, series, time_step=G.SPLIT_TIME):\n",
    "\n",
    "    time_train = time[:time_step]\n",
    "    series_train = series[:time_step]\n",
    "    time_valid = time[time_step:]\n",
    "    series_valid = series[time_step:]\n",
    "\n",
    "    return time_train, series_train, time_valid, series_valid\n",
    "\n",
    "\n",
    "# Split the dataset\n",
    "time_train, series_train0, time_valid, series_valid0 = train_val_split(G.TIME, G.SERIES)"
   ]
  },
  {
   "cell_type": "code",
   "execution_count": 56,
   "metadata": {},
   "outputs": [],
   "source": [
    "# from sklearn.preprocessing import MinMaxScaler\n",
    "# scaler = MinMaxScaler()\n",
    "# model=scaler.fit((time_train,series_train))\n",
    "# time_train,series_train=model.transform((time_train,series_train))\n",
    "# model2=scaler.fit((time_valid,series_valid))\n",
    "# time_valid,series_valid=model2.transform((time_valid,series_valid))"
   ]
  },
  {
   "cell_type": "code",
   "execution_count": 57,
   "metadata": {},
   "outputs": [],
   "source": [
    "series_train=(series_train0-np.min(series_train0))/(np.max(series_train0)-np.min(series_train0))\n",
    "series_valid=(series_valid0-np.min(series_valid0))/(np.max(series_valid0)-np.min(series_valid0))"
   ]
  },
  {
   "cell_type": "code",
   "execution_count": 58,
   "metadata": {
    "deletable": false,
    "editable": false,
    "id": "lJwUUZscnG38"
   },
   "outputs": [],
   "source": [
    "def windowed_dataset(series, window_size=G.WINDOW_SIZE, batch_size=G.BATCH_SIZE, shuffle_buffer=G.SHUFFLE_BUFFER_SIZE):\n",
    "    ds = tf.data.Dataset.from_tensor_slices(series)\n",
    "    ds = ds.window(window_size + 1, shift=1, drop_remainder=True)\n",
    "    ds = ds.flat_map(lambda w: w.batch(window_size + 1))\n",
    "    ds = ds.shuffle(shuffle_buffer)\n",
    "    ds = ds.map(lambda w: (w[:-1], w[-1]))\n",
    "    ds = ds.batch(batch_size).prefetch(1)\n",
    "    return ds\n",
    "\n",
    "\n",
    "# Apply the transformation to the training set\n",
    "train_set = windowed_dataset(series_train, window_size=G.WINDOW_SIZE, batch_size=G.BATCH_SIZE, shuffle_buffer=G.SHUFFLE_BUFFER_SIZE)"
   ]
  },
  {
   "cell_type": "code",
   "execution_count": 59,
   "metadata": {
    "deletable": false
   },
   "outputs": [],
   "source": [
    "def create_uncompiled_model():\n",
    "\n",
    "    ### START CODE HERE\n",
    "    \n",
    "    model = tf.keras.models.Sequential([\n",
    "        tf.keras.layers.Conv1D(filters=8, kernel_size=4,\n",
    "                               strides=1,\n",
    "                               activation='relu',\n",
    "                               padding='causal',\n",
    "                               input_shape=[G.WINDOW_SIZE,1]),\n",
    "        tf.keras.layers.Dropout(0.4),\n",
    "        # tf.keras.layers.LSTM(512, return_sequences=True),\n",
    "        # # tf.keras.layers.LSTM(256),\n",
    "        # tf.keras.layers.Conv1D(filters=512, kernel_size=4,\n",
    "        #                        strides=1,\n",
    "        #                        activation='relu',\n",
    "        #                        padding='causal'),\n",
    "        # tf.keras.layers.LSTM(256, return_sequences=True),\n",
    "        # # tf.keras.layers.LSTM(128),\n",
    "        # tf.keras.layers.Conv1D(filters=256, kernel_size=4,\n",
    "        #                        strides=1,\n",
    "        #                        activation='relu',\n",
    "        #                        padding='causal'),\n",
    "        # tf.keras.layers.LSTM(128, return_sequences=True),\n",
    "        # # tf.keras.layers.LSTM(64),\n",
    "        # tf.keras.layers.Conv1D(filters=512, kernel_size=4,\n",
    "        #                        strides=1,\n",
    "        #                        activation='relu',\n",
    "        #                        padding='causal'),\n",
    "        # tf.keras.layers.LSTM(256, return_sequences=True),\n",
    "        # # tf.keras.layers.LSTM(128),\n",
    "        # tf.keras.layers.Conv1D(filters=64, kernel_size=4,\n",
    "        #                        strides=1,\n",
    "        #                        activation='relu',\n",
    "        #                        padding='causal'),\n",
    "        # tf.keras.layers.LSTM(128, return_sequences=True),\n",
    "        # # tf.keras.layers.LSTM(64),\n",
    "        # tf.keras.layers.Conv1D(filters=32, kernel_size=4,\n",
    "        #                        strides=1,\n",
    "        #                        activation='relu',\n",
    "        #                        padding='causal'),\n",
    "        tf.keras.layers.LSTM(8, return_sequences=True),\n",
    "        tf.keras.layers.LSTM(4),\n",
    "        tf.keras.layers.Dropout(0.4),                                        \n",
    "        # tf.keras.layers.Dense(512, activation='relu'),\n",
    "        # tf.keras.layers.Dense(256, activation='relu'),\n",
    "        # tf.keras.layers.Dense(256, activation='relu'),\n",
    "        # tf.keras.layers.Dense(128, activation='relu'),\n",
    "        tf.keras.layers.Dense(8, activation='relu'),\n",
    "        tf.keras.layers.Dropout(0.4),                \n",
    "        tf.keras.layers.Dense(1)\n",
    "    ]) \n",
    "    \n",
    "    ### END CODE HERE\n",
    "\n",
    "    return model"
   ]
  },
  {
   "cell_type": "code",
   "execution_count": 60,
   "metadata": {
    "deletable": false
   },
   "outputs": [],
   "source": [
    "def adjust_learning_rate(dataset):\n",
    "    \n",
    "    model = create_uncompiled_model()\n",
    "    \n",
    "    lr_schedule = tf.keras.callbacks.LearningRateScheduler(lambda epoch: 1e-4 * 10**(epoch / 20))\n",
    "    \n",
    "    ### START CODE HERE\n",
    "    \n",
    "    # Select your optimizer\n",
    "    optimizer = tf.keras.optimizers.Adam()\n",
    "    \n",
    "    # Compile the model passing in the appropriate loss\n",
    "    model.compile(loss=tf.keras.losses.Huber(),\n",
    "                  optimizer=optimizer, \n",
    "                  metrics=[\"mae\"]) \n",
    "    \n",
    "    ### END CODE HERE\n",
    "    \n",
    "    history = model.fit(dataset, epochs=100, callbacks=[lr_schedule])\n",
    "    \n",
    "    return history"
   ]
  },
  {
   "cell_type": "code",
   "execution_count": 61,
   "metadata": {
    "deletable": false,
    "editable": false
   },
   "outputs": [
    {
     "name": "stdout",
     "output_type": "stream",
     "text": [
      "Epoch 1/100\n",
      "38/38 [==============================] - 16s 257ms/step - loss: 0.0938 - mae: 0.3835 - lr: 1.0000e-04\n",
      "Epoch 2/100\n",
      "33/38 [=========================>....] - ETA: 1s - loss: 0.0692 - mae: 0.3224"
     ]
    }
   ],
   "source": [
    "# Run the training with dynamic LR\n",
    "lr_history = adjust_learning_rate(train_set)"
   ]
  },
  {
   "cell_type": "code",
   "execution_count": null,
   "metadata": {
    "colab": {
     "base_uri": "https://localhost:8080/",
     "height": 290
    },
    "deletable": false,
    "editable": false,
    "id": "vVcKmg7Q_7rD",
    "outputId": "27cf16ae-eb85-47c3-fc86-18e72e528619"
   },
   "outputs": [
    {
     "data": {
      "text/plain": [
       "(0.0001, 1.0, 0.0, 1.0)"
      ]
     },
     "execution_count": 27,
     "metadata": {},
     "output_type": "execute_result"
    },
    {
     "data": {
      "image/png": "[encoded data removed]",
      "text/plain": [
       "<Figure size 640x480 with 1 Axes>"
      ]
     },
     "metadata": {},
     "output_type": "display_data"
    }
   ],
   "source": [
    "plt.semilogx(lr_history.history[\"lr\"], lr_history.history[\"loss\"])\n",
    "plt.axis([1e-4, 1, 0, 1])"
   ]
  },
  {
   "cell_type": "code",
   "execution_count": null,
   "metadata": {
    "deletable": false
   },
   "outputs": [],
   "source": [
    "def create_model():\n",
    "\n",
    "    \n",
    "    model = create_uncompiled_model()\n",
    "\n",
    "    ### START CODE HERE\n",
    "\n",
    "    model.compile(loss=tf.keras.losses.Huber(),\n",
    "                  optimizer=tf.keras.optimizers.Adam(lr=0.0071),\n",
    "                  metrics=[\"mae\"])  \n",
    "    \n",
    "\n",
    "    ### END CODE HERE\n",
    "\n",
    "    return model"
   ]
  },
  {
   "cell_type": "code",
   "execution_count": null,
   "metadata": {
    "deletable": false
   },
   "outputs": [
    {
     "name": "stdout",
     "output_type": "stream",
     "text": [
      "Epoch 1/50\n",
      "38/38 [==============================] - 7s 88ms/step - loss: 0.0548 - mae: 0.2791\n",
      "Epoch 2/50\n",
      "38/38 [==============================] - 3s 89ms/step - loss: 0.0432 - mae: 0.2337\n",
      "Epoch 3/50\n",
      "38/38 [==============================] - 3s 87ms/step - loss: 0.0377 - mae: 0.2168\n",
      "Epoch 4/50\n",
      "38/38 [==============================] - 3s 85ms/step - loss: 0.0315 - mae: 0.1929\n",
      "Epoch 5/50\n",
      "38/38 [==============================] - 3s 87ms/step - loss: 0.0257 - mae: 0.1759\n",
      "Epoch 6/50\n",
      "38/38 [==============================] - 3s 86ms/step - loss: 0.0223 - mae: 0.1573\n",
      "Epoch 7/50\n",
      "38/38 [==============================] - 3s 85ms/step - loss: 0.0179 - mae: 0.1447\n",
      "Epoch 8/50\n",
      "38/38 [==============================] - 3s 86ms/step - loss: 0.0179 - mae: 0.1434\n",
      "Epoch 9/50\n",
      "38/38 [==============================] - 3s 89ms/step - loss: 0.0168 - mae: 0.1368\n",
      "Epoch 10/50\n",
      "38/38 [==============================] - 3s 88ms/step - loss: 0.0158 - mae: 0.1312\n",
      "Epoch 11/50\n",
      "38/38 [==============================] - 3s 87ms/step - loss: 0.0152 - mae: 0.1291\n",
      "Epoch 12/50\n",
      "38/38 [==============================] - 3s 85ms/step - loss: 0.0139 - mae: 0.1224\n",
      "Epoch 13/50\n",
      "38/38 [==============================] - 3s 87ms/step - loss: 0.0130 - mae: 0.1194\n",
      "Epoch 14/50\n",
      "38/38 [==============================] - 3s 86ms/step - loss: 0.0126 - mae: 0.1173\n",
      "Epoch 15/50\n",
      "38/38 [==============================] - 3s 85ms/step - loss: 0.0122 - mae: 0.1142\n",
      "Epoch 16/50\n",
      "38/38 [==============================] - 3s 86ms/step - loss: 0.0114 - mae: 0.1104\n",
      "Epoch 17/50\n",
      "38/38 [==============================] - 3s 89ms/step - loss: 0.0110 - mae: 0.1098\n",
      "Epoch 18/50\n",
      "38/38 [==============================] - 3s 85ms/step - loss: 0.0104 - mae: 0.1075\n",
      "Epoch 19/50\n",
      "38/38 [==============================] - 3s 85ms/step - loss: 0.0113 - mae: 0.1087\n",
      "Epoch 20/50\n",
      "38/38 [==============================] - 3s 88ms/step - loss: 0.0106 - mae: 0.1054\n",
      "Epoch 21/50\n",
      "38/38 [==============================] - 3s 87ms/step - loss: 0.0098 - mae: 0.1036\n",
      "Epoch 22/50\n",
      "38/38 [==============================] - 3s 85ms/step - loss: 0.0100 - mae: 0.1026\n",
      "Epoch 23/50\n",
      "38/38 [==============================] - 3s 86ms/step - loss: 0.0106 - mae: 0.1062\n",
      "Epoch 24/50\n",
      "38/38 [==============================] - 3s 88ms/step - loss: 0.0100 - mae: 0.1015\n",
      "Epoch 25/50\n",
      "38/38 [==============================] - 3s 86ms/step - loss: 0.0087 - mae: 0.0971\n",
      "Epoch 26/50\n",
      "38/38 [==============================] - 3s 87ms/step - loss: 0.0089 - mae: 0.0964\n",
      "Epoch 27/50\n",
      "38/38 [==============================] - 3s 87ms/step - loss: 0.0088 - mae: 0.0958\n",
      "Epoch 28/50\n",
      "38/38 [==============================] - 3s 87ms/step - loss: 0.0089 - mae: 0.0959\n",
      "Epoch 29/50\n",
      "38/38 [==============================] - 3s 86ms/step - loss: 0.0087 - mae: 0.0951\n",
      "Epoch 30/50\n",
      "38/38 [==============================] - 3s 86ms/step - loss: 0.0082 - mae: 0.0937\n",
      "Epoch 31/50\n",
      "38/38 [==============================] - 3s 85ms/step - loss: 0.0081 - mae: 0.0920\n",
      "Epoch 32/50\n",
      "38/38 [==============================] - 3s 87ms/step - loss: 0.0079 - mae: 0.0910\n",
      "Epoch 33/50\n",
      "38/38 [==============================] - 3s 88ms/step - loss: 0.0080 - mae: 0.0903\n",
      "Epoch 34/50\n",
      "38/38 [==============================] - 3s 89ms/step - loss: 0.0074 - mae: 0.0891\n",
      "Epoch 35/50\n",
      "38/38 [==============================] - 3s 88ms/step - loss: 0.0078 - mae: 0.0907\n",
      "Epoch 36/50\n",
      "38/38 [==============================] - 3s 90ms/step - loss: 0.0083 - mae: 0.0919\n",
      "Epoch 37/50\n",
      "38/38 [==============================] - 3s 89ms/step - loss: 0.0076 - mae: 0.0888\n",
      "Epoch 38/50\n",
      "38/38 [==============================] - 3s 89ms/step - loss: 0.0086 - mae: 0.0967\n",
      "Epoch 39/50\n",
      "38/38 [==============================] - 3s 88ms/step - loss: 0.0082 - mae: 0.0938\n",
      "Epoch 40/50\n",
      "38/38 [==============================] - 3s 88ms/step - loss: 0.0071 - mae: 0.0861\n",
      "Epoch 41/50\n",
      "38/38 [==============================] - 3s 88ms/step - loss: 0.0077 - mae: 0.0885\n",
      "Epoch 42/50\n",
      "38/38 [==============================] - 3s 89ms/step - loss: 0.0074 - mae: 0.0864\n",
      "Epoch 43/50\n",
      "38/38 [==============================] - 3s 88ms/step - loss: 0.0077 - mae: 0.0897\n",
      "Epoch 44/50\n",
      "38/38 [==============================] - 3s 88ms/step - loss: 0.0068 - mae: 0.0855\n",
      "Epoch 45/50\n",
      "38/38 [==============================] - 3s 89ms/step - loss: 0.0078 - mae: 0.0896\n",
      "Epoch 46/50\n",
      "38/38 [==============================] - 3s 89ms/step - loss: 0.0075 - mae: 0.0862\n",
      "Epoch 47/50\n",
      "38/38 [==============================] - 3s 87ms/step - loss: 0.0074 - mae: 0.0875\n",
      "Epoch 48/50\n",
      "38/38 [==============================] - 3s 89ms/step - loss: 0.0076 - mae: 0.0891\n",
      "Epoch 49/50\n",
      "38/38 [==============================] - 3s 89ms/step - loss: 0.0070 - mae: 0.0843\n",
      "Epoch 50/50\n",
      "38/38 [==============================] - 3s 90ms/step - loss: 0.0068 - mae: 0.0845\n"
     ]
    }
   ],
   "source": [
    "# Save an instance of the model\n",
    "model = create_model()\n",
    "\n",
    "# Train it\n",
    "history = model.fit(train_set, epochs=50)"
   ]
  },
  {
   "cell_type": "code",
   "execution_count": null,
   "metadata": {
    "deletable": false,
    "editable": false
   },
   "outputs": [],
   "source": [
    "def compute_metrics(true_series, forecast):\n",
    "    \n",
    "    mse = tf.keras.metrics.mean_squared_error(true_series, forecast).numpy()\n",
    "    mae = tf.keras.metrics.mean_absolute_error(true_series, forecast).numpy()\n",
    "\n",
    "    return mse, mae"
   ]
  },
  {
   "cell_type": "code",
   "execution_count": null,
   "metadata": {
    "deletable": false,
    "editable": false,
    "id": "4XwGrf-A_wF0"
   },
   "outputs": [],
   "source": [
    "def model_forecast(model, series, window_size):\n",
    "    ds = tf.data.Dataset.from_tensor_slices(series)\n",
    "    ds = ds.window(window_size, shift=1, drop_remainder=True)\n",
    "    ds = ds.flat_map(lambda w: w.batch(window_size))\n",
    "    ds = ds.batch(32).prefetch(1)\n",
    "    forecast = model.predict(ds)\n",
    "    return forecast"
   ]
  },
  {
   "cell_type": "code",
   "execution_count": null,
   "metadata": {
    "colab": {
     "base_uri": "https://localhost:8080/",
     "height": 389
    },
    "deletable": false,
    "editable": false,
    "id": "PrktQX3hKYex",
    "outputId": "1914662d-6bdd-4e17-8697-8f5a29e89b87"
   },
   "outputs": [
    {
     "name": "stdout",
     "output_type": "stream",
     "text": [
      "52/52 [==============================] - 1s 23ms/step\n"
     ]
    },
    {
     "data": {
      "image/png": "[encoded data removed]",
      "text/plain": [
       "<Figure size 1000x600 with 1 Axes>"
      ]
     },
     "metadata": {},
     "output_type": "display_data"
    }
   ],
   "source": [
    "# Compute the forecast for all the series\n",
    "rnn_forecast = model_forecast(model, G.SERIES, G.WINDOW_SIZE).squeeze()\n",
    "\n",
    "# Slice the forecast to get only the predictions for the validation set\n",
    "rnn_forecast = rnn_forecast[G.SPLIT_TIME - G.WINDOW_SIZE:-1]\n",
    "# rnn_forecast=rnn_forecast*(np.max(series_valid0)-np.min(series_valid0))+np.min(series_valid0)\n",
    "\n",
    "# Plot the forecast\n",
    "plt.figure(figsize=(10, 6))\n",
    "plot_series(time_valid, series_valid)\n",
    "plot_series(time_valid, rnn_forecast)"
   ]
  },
  {
   "cell_type": "code",
   "execution_count": null,
   "metadata": {},
   "outputs": [],
   "source": [
    "rnn_forecast=rnn_forecast*(np.max(series_valid0)-np.min(series_valid0))+np.min(series_valid0)\n"
   ]
  },
  {
   "cell_type": "code",
   "execution_count": null,
   "metadata": {
    "deletable": false,
    "editable": false
   },
   "outputs": [
    {
     "name": "stdout",
     "output_type": "stream",
     "text": [
      "mse: 0.05, mae: 0.17 for forecast\n"
     ]
    }
   ],
   "source": [
    "mse, mae = compute_metrics(series_valid, rnn_forecast)\n",
    "\n",
    "print(f\"mse: {mse:.2f}, mae: {mae:.2f} for forecast\")"
   ]
  }
 ],
 "metadata": {
  "kernelspec": {
   "display_name": "Python 3",
   "language": "python",
   "name": "python3"
  },
  "language_info": {
   "codemirror_mode": {
    "name": "ipython",
    "version": 3
   },
   "file_extension": ".py",
   "mimetype": "text/x-python",
   "name": "python",
   "nbconvert_exporter": "python",
   "pygments_lexer": "ipython3",
   "version": "3.10.11"
  }
 },
 "nbformat": 4,
 "nbformat_minor": 1
}
